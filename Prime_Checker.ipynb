{
  "nbformat": 4,
  "nbformat_minor": 0,
  "metadata": {
    "colab": {
      "provenance": []
    },
    "kernelspec": {
      "name": "python3",
      "display_name": "Python 3"
    },
    "language_info": {
      "name": "python"
    }
  },
  "cells": [
    {
      "cell_type": "markdown",
      "source": [
        "## Type 1"
      ],
      "metadata": {
        "id": "WX7PDrj0qFmd"
      }
    },
    {
      "cell_type": "code",
      "execution_count": 34,
      "metadata": {
        "colab": {
          "base_uri": "https://localhost:8080/"
        },
        "id": "6NmXcW1bOVGE",
        "outputId": "f737af8f-a35a-4bcc-cad4-fa23490f718c"
      },
      "outputs": [
        {
          "output_type": "stream",
          "name": "stdout",
          "text": [
            "5 is a prime number\n",
            "10 is not a prime number\n",
            "15 is not a prime number\n",
            "20 is not a prime number\n",
            "51 is not a prime number\n",
            "25 is not a prime number\n",
            "84 is not a prime number\n",
            "2 is a prime number\n",
            "494 is not a prime number\n",
            "15 is not a prime number\n",
            "847 is not a prime number\n",
            "15 is not a prime number\n"
          ]
        }
      ],
      "source": [
        "p = (5,10,15,20,51,25,84,2,494,15,847,15)\n",
        "\n",
        "k = list(p) \n",
        "for j in k: \n",
        "  if j > 1:\n",
        "    for i in range(2, int(j/2)+1):\n",
        "      if j % i == 0:\n",
        "        print(j, \"is not a prime number\")\n",
        "        break\n",
        "    else:\n",
        "      print(j, \"is a prime number\")\n",
        "  else:\n",
        "    print(j, \"It is a negative number and it is not a prime number\")\n"
      ]
    },
    {
      "cell_type": "markdown",
      "source": [
        "## Type 2"
      ],
      "metadata": {
        "id": "CtpIesF6qKub"
      }
    },
    {
      "cell_type": "code",
      "source": [
        "\n",
        "n = int(input(\"Please enter a number to check its a prime number or not: \"))\n",
        "\n",
        "if n> int(1):\n",
        "  for i in range(2, int(n/2)+1):\n",
        "    if n % i == 0:\n",
        "      print(n, \"is not a prime number\")\n",
        "    else:\n",
        "      print(n, \"is a prime number\")\n",
        "    break\n",
        "else:\n",
        "    print(n, \"It is a negative number and it is not a prime number\")"
      ],
      "metadata": {
        "colab": {
          "base_uri": "https://localhost:8080/"
        },
        "id": "OuUN3jQlaQHu",
        "outputId": "05b5ea4c-2c5b-46e8-a988-833159ee8984"
      },
      "execution_count": 38,
      "outputs": [
        {
          "output_type": "stream",
          "name": "stdout",
          "text": [
            "Please enter a number to check its a prime number or not: 4\n",
            "4 is not a prime number\n"
          ]
        }
      ]
    },
    {
      "cell_type": "code",
      "source": [],
      "metadata": {
        "id": "hrUHbFEyaQSc"
      },
      "execution_count": null,
      "outputs": []
    }
  ]
}